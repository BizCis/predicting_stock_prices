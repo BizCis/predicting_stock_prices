{
 "cells": [
  {
   "cell_type": "markdown",
   "id": "fb2976b0",
   "metadata": {},
   "source": [
    "# Predicción de Precios de Acciones Usando Modelos de Machine Learning\n",
    "\n",
    "En este notebook se explora cómo construir y evaluar modelos de regresión para predecir el precio futuro de acciones a partir de datos históricos del mercado financiero. Se utilizan técnicas de aprendizaje automático para analizar variables como apertura, cierre, volumen y retornos diarios, permitiendo estimar el comportamiento futuro de los precios y apoyar la toma de decisiones en inversiones."
   ]
  },
  {
   "cell_type": "code",
   "execution_count": 2,
   "id": "b8a54ad1",
   "metadata": {},
   "outputs": [
    {
     "ename": "SyntaxError",
     "evalue": "invalid syntax (2935765058.py, line 30)",
     "output_type": "error",
     "traceback": [
      "\u001b[0;36m  Cell \u001b[0;32mIn[2], line 30\u001b[0;36m\u001b[0m\n\u001b[0;31m    ```\u001b[0m\n\u001b[0m    ^\u001b[0m\n\u001b[0;31mSyntaxError\u001b[0m\u001b[0;31m:\u001b[0m invalid syntax\n"
     ]
    }
   ],
   "source": [
    "### \n",
    "\n",
    "def plot_stock_data(data, colors):\n",
    "    plt.style.use('dark_background')\n",
    "    fig, axs = plt.subplots(3, 1, figsize=(12, 8))\n",
    "    \n",
    "    # Configuration\n",
    "    plot_configs = [\n",
    "      {'data_col': 'Daily_Return', 'ax': axs[0], 'label': 'Daily Return', 'title': 'Daily Returns', 'ylabel': 'Daily Return', 'color': colors['daily_return']},\n",
    "      {'data_col': 'Open', 'ax': axs[1], 'label': 'Open', 'title': 'Open, High, and Low Prices', 'ylabel': 'Price (USD)', 'color': colors['open']},\n",
    "      {'data_col': 'High', 'ax': axs[1], 'label': 'High', 'color': colors['high']},\n",
    "      {'data_col': 'Low', 'ax': axs[1], 'label': 'Low', 'color': colors['low']},\n",
    "      {'data_col': 'Volume', 'ax': axs[2], 'label': 'Volume', 'title': 'Trading Volume', 'ylabel': 'Volume', 'color': colors['volume'], 'bar': True},\n",
    "    ]\n",
    "\n",
    "\n",
    "    for config in plot_configs:\n",
    "        if 'bar' in config:\n",
    "            config['ax'].bar(data.index, data[config['data_col']], label=config['label'], color=config['color'])\n",
    "        else:\n",
    "            config['ax'].plot(data.index, data[config['data_col']], label=config['label'], color=config['color'])\n",
    "        \n",
    "        if 'title' in config:\n",
    "            config['ax'].set_title(config['title'])\n",
    "        if 'ylabel' in config:\n",
    "            config['ax'].set_ylabel(config['ylabel'])\n",
    "        config['ax'].legend()\n",
    "    \n",
    "    plt.tight_layout()\n",
    "```\n",
    "\n",
    "<p align=\"center\">\n",
    "  <img src=\"/images/Plot1.png\" alt=\"Plot1 que contiene graficos de las acciones\">\n",
    "</p>\n"
   ]
  },
  {
   "cell_type": "code",
   "execution_count": null,
   "id": "2321546a",
   "metadata": {},
   "outputs": [],
   "source": [
    "def linear_regression_model(data, colors):\n",
    "    X = data[['Open', 'High', 'Low', 'Volume', 'Daily_Return']]\n",
    "    y = data['Next_Day_Price']\n",
    "    X_train, X_test, y_train, y_test = train_test_split(X, y, test_size=0.2, random_state=42)\n",
    "\n",
    "    model = LinearRegression()\n",
    "    model.fit(X_train, y_train)\n",
    "    y_pred = model.predict(X_test)\n",
    "    \n",
    "    mse = mean_squared_error(y_test, y_pred)\n",
    "    r2 = r2_score(y_test, y_pred)\n",
    "    print(f'Mean Squared Error (MSE): {mse}')\n",
    "    print(f'R-squared (R^2): {r2}')\n",
    "\n",
    "    # Visualizar los resultados de la regresión\n",
    "    plot_regression_results(y_test, y_pred, colors)\n",
    "\n",
    "    return model"
   ]
  },
  {
   "cell_type": "code",
   "execution_count": null,
   "id": "5885f3fe",
   "metadata": {},
   "outputs": [],
   "source": [
    "def predict_future_prices(model, data, colors):\n",
    "    last_day = data.index[-1]\n",
    "    new_dates = [last_day + BDay(i) for i in range(1, 11)]\n",
    "\n",
    "    # Calcular el cambio porcentual promedio de los últimos 5 días\n",
    "    mean_percentage_change = data[['Open', 'High', 'Low', 'Volume', 'Daily_Return']].pct_change().rolling(window=5).mean().iloc[-1]\n",
    "\n",
    "    # Inicializar un DataFrame para las características futuras\n",
    "    future_features = pd.DataFrame(index=new_dates, columns=['Open', 'High', 'Low', 'Volume', 'Daily_Return'])\n",
    "    \n",
    "    # Aplicar la extrapolación basada en el cambio porcentual promedio\n",
    "    for i, date in enumerate(future_features.index):\n",
    "        if i == 0:\n",
    "            future_features.loc[date] = data[['Open', 'High', 'Low', 'Volume', 'Daily_Return']].iloc[-1]\n",
    "        else:\n",
    "            future_features.loc[date] = future_features.iloc[i-1] * (1 + mean_percentage_change)\n",
    "\n",
    "    future_features = future_features.astype(float)\n",
    "\n",
    "    # Realizar predicciones con el modelo\n",
    "    future_predicted_prices = model.predict(future_features)\n",
    "\n",
    "    # Crear un DataFrame para las fechas y precios pronosticados\n",
    "    predictions_df = pd.DataFrame({'Date': new_dates, 'Predicted_Price': future_predicted_prices})\n",
    "\n",
    "    print(predictions_df)"
   ]
  }
 ],
 "metadata": {
  "kernelspec": {
   "display_name": "base",
   "language": "python",
   "name": "python3"
  },
  "language_info": {
   "codemirror_mode": {
    "name": "ipython",
    "version": 3
   },
   "file_extension": ".py",
   "mimetype": "text/x-python",
   "name": "python",
   "nbconvert_exporter": "python",
   "pygments_lexer": "ipython3",
   "version": "3.11.5"
  }
 },
 "nbformat": 4,
 "nbformat_minor": 5
}
